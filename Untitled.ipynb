{
 "cells": [
  {
   "cell_type": "code",
   "execution_count": 7,
   "id": "19d5e8d7-0c9b-4b9c-ba87-91890dda5d11",
   "metadata": {},
   "outputs": [],
   "source": [
    "import pandas as pd\n",
    "import json"
   ]
  },
  {
   "cell_type": "code",
   "execution_count": 8,
   "id": "5054e6d0-9357-4f30-820e-b9f30a79f41c",
   "metadata": {},
   "outputs": [],
   "source": [
    "HAP_df = pd.read_parquet('data/pricing_data/avgHighPrice.parquet.gzip')\n",
    "LAP_df = pd.read_parquet('data/pricing_data/avgLowPrice.parquet.gzip')\n",
    "HAV_df = pd.read_parquet('data/pricing_data/highPriceVolume.parquet.gzip')\n",
    "LAV_df = pd.read_parquet('data/pricing_data/lowPriceVolume.parquet.gzip')"
   ]
  },
  {
   "cell_type": "code",
   "execution_count": 9,
   "id": "63acea17-4f7c-4896-9c12-6d125f7aee48",
   "metadata": {},
   "outputs": [],
   "source": [
    "with open(\"data/name_dicts/ID_to_name.json\",\"r\") as f:\n",
    "    id2name=json.load(f)\n",
    "with open(\"data/name_dicts/name_to_ID.json\",\"r\") as f:\n",
    "    name2id=json.load(f)"
   ]
  },
  {
   "cell_type": "code",
   "execution_count": null,
   "id": "7ba10eed-a3c7-4d17-a06c-9baab0b6e8a9",
   "metadata": {},
   "outputs": [],
   "source": []
  }
 ],
 "metadata": {
  "kernelspec": {
   "display_name": "Python 3 (ipykernel)",
   "language": "python",
   "name": "python3"
  },
  "language_info": {
   "codemirror_mode": {
    "name": "ipython",
    "version": 3
   },
   "file_extension": ".py",
   "mimetype": "text/x-python",
   "name": "python",
   "nbconvert_exporter": "python",
   "pygments_lexer": "ipython3",
   "version": "3.8.12"
  }
 },
 "nbformat": 4,
 "nbformat_minor": 5
}
