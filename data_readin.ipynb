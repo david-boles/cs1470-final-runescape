{
 "cells": [
  {
   "cell_type": "code",
   "execution_count": 6,
   "id": "5c0b028e",
   "metadata": {},
   "outputs": [],
   "source": [
    "import json\n",
    "import pandas as pd\n",
    "import matplotlib.pyplot as plt\n",
    "import numpy as np\n",
    "import ta"
   ]
  },
  {
   "cell_type": "code",
   "execution_count": 23,
   "id": "5054e6d0-9357-4f30-820e-b9f30a79f41c",
   "metadata": {},
   "outputs": [],
   "source": [
    "HAP_df = pd.read_parquet('data/pricing_data/avgHighPrice.parquet.gzip')\n",
    "LAP_df = pd.read_parquet('data/pricing_data/avgLowPrice.parquet.gzip')\n",
    "HAV_df = pd.read_parquet('data/pricing_data/highPriceVolume.parquet.gzip')\n",
    "LAV_df = pd.read_parquet('data/pricing_data/lowPriceVolume.parquet.gzip')"
   ]
  },
  {
   "cell_type": "code",
   "execution_count": 8,
   "id": "63acea17-4f7c-4896-9c12-6d125f7aee48",
   "metadata": {},
   "outputs": [],
   "source": [
    "with open(\"data/name_dicts/ID_to_name.json\",\"r\") as f:\n",
    "    id2name=json.load(f)\n",
    "with open(\"data/name_dicts/name_to_ID.json\",\"r\") as f:\n",
    "    name2id=json.load(f)"
   ]
  },
  {
   "cell_type": "code",
   "execution_count": 24,
   "id": "dde314c1",
   "metadata": {},
   "outputs": [],
   "source": [
    "HAV_df = HAV_df.fillna(0)\n",
    "LAV_df = LAV_df.fillna(0)"
   ]
  },
  {
   "cell_type": "code",
   "execution_count": 25,
   "id": "1334b02f-6e5f-4c0a-80f5-bf65fe29b1ad",
   "metadata": {},
   "outputs": [],
   "source": [
    "HAP_df = HAP_df.interpolate(method = \"linear\")\n",
    "LAP_df = LAP_df.interpolate(method = \"linear\")"
   ]
  },
  {
   "cell_type": "code",
   "execution_count": 247,
   "id": "5c58cfca-0b9e-45ae-a2f6-e91529330ab5",
   "metadata": {},
   "outputs": [
    {
     "data": {
      "image/png": "[encoded data removed]",
      "text/plain": [
       "<Figure size 432x288 with 1 Axes>"
      ]
     },
     "metadata": {
      "needs_background": "light"
     },
     "output_type": "display_data"
    }
   ],
   "source": [
    "plt.plot(HAP_df.index.tolist(), HAP_df.isnull().sum(axis=1).tolist() )\n",
    "plt.plot(HAP_df.index.tolist()[300],HAP_df.isnull().sum(axis=1).tolist()[300], \"o\", color = \"r\")\n",
    "plt.show()"
   ]
  },
  {
   "cell_type": "code",
   "execution_count": 11,
   "id": "c904d2be-c3fa-4929-8143-dcc5a55e8377",
   "metadata": {},
   "outputs": [],
   "source": [
    "HAP_df = HAP_df.iloc[300: , :]\n",
    "LAP_df = LAP_df.iloc[300: , :]\n",
    "HAV_df = HAV_df.iloc[300: , :]\n",
    "LAV_df = LAV_df.iloc[300: , :]"
   ]
  },
  {
   "cell_type": "code",
   "execution_count": 249,
   "id": "1372b1b7-f26f-4b10-aa25-30bdd762dd26",
   "metadata": {},
   "outputs": [
    {
     "data": {
      "image/png": "[encoded data removed]",
      "text/plain": [
       "<Figure size 432x288 with 1 Axes>"
      ]
     },
     "metadata": {
      "needs_background": "light"
     },
     "output_type": "display_data"
    }
   ],
   "source": [
    "plt.plot(HAP_df.index.tolist(), HAP_df.isnull().sum(axis=1).tolist() )\n",
    "\n",
    "plt.show()"
   ]
  },
  {
   "cell_type": "code",
   "execution_count": 12,
   "id": "1983a940-72a1-409d-92bd-962adc9f4e9d",
   "metadata": {},
   "outputs": [
    {
     "data": {
      "text/plain": [
       "3724"
      ]
     },
     "execution_count": 12,
     "metadata": {},
     "output_type": "execute_result"
    }
   ],
   "source": [
    "cols = []\n",
    "for col in HAP_df.columns:\n",
    "    if HAP_df[col].isnull().any() == False and LAP_df[col].isnull().any() == False:\n",
    "        cols.append(col)\n",
    "len(cols)"
   ]
  },
  {
   "cell_type": "code",
   "execution_count": 13,
   "id": "3940755c-b378-450a-990c-359e6f7f00fb",
   "metadata": {},
   "outputs": [],
   "source": [
    "HAP_df = HAP_df[cols]\n",
    "LAP_df = LAP_df[cols]\n",
    "HAV_df = HAV_df[cols]\n",
    "LAV_df = LAV_df[cols]"
   ]
  },
  {
   "cell_type": "code",
   "execution_count": 252,
   "id": "7f41497c-8be4-4cbf-a827-5a5de4e920e2",
   "metadata": {},
   "outputs": [
    {
     "data": {
      "image/png": "[encoded data removed]",
      "text/plain": [
       "<Figure size 432x288 with 1 Axes>"
      ]
     },
     "metadata": {
      "needs_background": "light"
     },
     "output_type": "display_data"
    }
   ],
   "source": [
    "plt.plot(HAP_df.index.tolist(), HAP_df.isnull().sum(axis=1).tolist() )\n",
    "\n",
    "plt.show()"
   ]
  },
  {
   "cell_type": "code",
   "execution_count": 257,
   "id": "286e65a5-b828-4ddf-906d-705187f6f125",
   "metadata": {},
   "outputs": [],
   "source": [
    "window_size = 60 #how far in the past we give our model\n",
    "future_size = 2 #how far in the future we ask it to predict. "
   ]
  },
  {
   "cell_type": "code",
   "execution_count": 26,
   "id": "55382ba8-1928-4350-83b3-9d8aac800b1c",
   "metadata": {},
   "outputs": [
    {
     "data": {
      "text/plain": [
       "(4, 8762, 3797)"
      ]
     },
     "execution_count": 26,
     "metadata": {},
     "output_type": "execute_result"
    }
   ],
   "source": [
    "dfs = [HAP_df,LAP_df, HAV_df,LAV_df]\n",
    "arrays = [df.values for df in dfs]\n",
    "data = np.stack(arrays, axis =0)\n",
    "data.shape\n",
    "#(metric, time, item)"
   ]
  },
  {
   "cell_type": "code",
   "execution_count": 55,
   "metadata": {},
   "outputs": [],
   "source": [
    "temp_list = []\n",
    "temp_list.append(generate_roc)\n",
    "temp_list.append(generate_roc)\n",
    "temp_check = pd.DataFrame(np.vstack(temp_list).T)"
   ]
  },
  {
   "cell_type": "code",
   "execution_count": 63,
   "id": "a146bfea",
   "metadata": {},
   "outputs": [],
   "source": [
    "#  Adding differencing, rate of change\n",
    "#  First value is always Na because no change from first one\n",
    "temp_list = []\n",
    "for i in range(data.shape[2]):\n",
    "    feature_roc = ta.momentum.ROCIndicator(close = pd.Series(data[0,:,i]), window = 1)\n",
    "    generate_roc = feature_roc.roc()\n",
    "    temp_list.append(generate_roc)\n",
    "ROC_df = pd.DataFrame(np.vstack(temp_list).T)\n"
   ]
  },
  {
   "cell_type": "code",
   "execution_count": 64,
   "id": "cdda00dd",
   "metadata": {},
   "outputs": [],
   "source": [
    "# Binning and Rate of Change, Bin size = bin_size\n",
    "# First bin_size values are Na, rate of change calculated over average value over bin_size time stamps\n",
    "bin_size = 10\n",
    "temp_list = []\n",
    "for i in range(data.shape[2]):\n",
    "    feature_roc = ta.momentum.ROCIndicator(close = pd.Series(data[0,:,i]), window = bin_size)\n",
    "    generate_roc = feature_roc.roc()\n",
    "    temp_list.append(generate_roc)\n",
    "ROC_bin_df = pd.DataFrame(np.vstack(temp_list).T)\n"
   ]
  },
  {
   "cell_type": "code",
   "execution_count": 70,
   "id": "801169a6",
   "metadata": {},
   "outputs": [],
   "source": [
    "# Moving Average for bins\n",
    "temp_list = []\n",
    "for i in range(data.shape[2]):\n",
    "    feature_MA = ta.trend.SMAIndicator(close = pd.Series(data[0,:,i]), window = bin_size)\n",
    "    generate_MA = feature_MA.sma_indicator()\n",
    "    temp_list.append(generate_MA)\n",
    "MA_df = pd.DataFrame(np.vstack(temp_list).T)"
   ]
  },
  {
   "cell_type": "code",
   "execution_count": 68,
   "id": "c7e6753a",
   "metadata": {},
   "outputs": [],
   "source": [
    "# Ease of movement\n",
    "temp_list = []\n",
    "for i in range(data.shape[2]):\n",
    "    feature_EOM = ta.volume.EaseOfMovementIndicator(high= pd.Series(data[0,:,i]), low = pd.Series(data[1,:,i]), volume=pd.Series(data[2,:,i]))\n",
    "    generate_EOM = feature_EOM.ease_of_movement()\n",
    "    temp_list.append(generate_EOM)\n",
    "EOM_df = pd.DataFrame(np.vstack(temp_list).T)"
   ]
  },
  {
   "cell_type": "code",
   "execution_count": 69,
   "id": "acca6dd6",
   "metadata": {},
   "outputs": [
    {
     "ename": "KeyboardInterrupt",
     "evalue": "",
     "output_type": "error",
     "traceback": [
      "\u001b[0;31m---------------------------------------------------------------------------\u001b[0m",
      "\u001b[0;31mKeyboardInterrupt\u001b[0m                         Traceback (most recent call last)",
      "\u001b[1;32m/Users/emmanuelpeters/cs1470-final-runescape/cs1470-final-runescape-1/data_readin.ipynb Cell 18'\u001b[0m in \u001b[0;36m<cell line: 4>\u001b[0;34m()\u001b[0m\n\u001b[1;32m      <a href='vscode-notebook-cell:/Users/emmanuelpeters/cs1470-final-runescape/cs1470-final-runescape-1/data_readin.ipynb#ch0000023?line=2'>3</a>\u001b[0m temp_list \u001b[39m=\u001b[39m []\n\u001b[1;32m      <a href='vscode-notebook-cell:/Users/emmanuelpeters/cs1470-final-runescape/cs1470-final-runescape-1/data_readin.ipynb#ch0000023?line=3'>4</a>\u001b[0m \u001b[39mfor\u001b[39;00m i \u001b[39min\u001b[39;00m \u001b[39mrange\u001b[39m(data\u001b[39m.\u001b[39mshape[\u001b[39m2\u001b[39m]):\n\u001b[0;32m----> <a href='vscode-notebook-cell:/Users/emmanuelpeters/cs1470-final-runescape/cs1470-final-runescape-1/data_readin.ipynb#ch0000023?line=4'>5</a>\u001b[0m     feature_Volatility \u001b[39m=\u001b[39m ta\u001b[39m.\u001b[39;49mvolatility\u001b[39m.\u001b[39;49mUlcerIndex(close \u001b[39m=\u001b[39;49m pd\u001b[39m.\u001b[39;49mSeries(data[\u001b[39m0\u001b[39;49m,:,i]), window \u001b[39m=\u001b[39;49m bin_size)\n\u001b[1;32m      <a href='vscode-notebook-cell:/Users/emmanuelpeters/cs1470-final-runescape/cs1470-final-runescape-1/data_readin.ipynb#ch0000023?line=5'>6</a>\u001b[0m     generate_Volatility \u001b[39m=\u001b[39m feature_Volatility\u001b[39m.\u001b[39mulcer_index()\n\u001b[1;32m      <a href='vscode-notebook-cell:/Users/emmanuelpeters/cs1470-final-runescape/cs1470-final-runescape-1/data_readin.ipynb#ch0000023?line=6'>7</a>\u001b[0m     temp_list\u001b[39m.\u001b[39mappend(generate_Volatility)\n",
      "File \u001b[0;32m~/cs1470-final-runescape/cs1470-final-runescape-1/env/lib/python3.9/site-packages/ta/volatility.py:446\u001b[0m, in \u001b[0;36mUlcerIndex.__init__\u001b[0;34m(self, close, window, fillna)\u001b[0m\n\u001b[1;32m    <a href='file:///Users/emmanuelpeters/cs1470-final-runescape/cs1470-final-runescape-1/env/lib/python3.9/site-packages/ta/volatility.py?line=443'>444</a>\u001b[0m \u001b[39mself\u001b[39m\u001b[39m.\u001b[39m_window \u001b[39m=\u001b[39m window\n\u001b[1;32m    <a href='file:///Users/emmanuelpeters/cs1470-final-runescape/cs1470-final-runescape-1/env/lib/python3.9/site-packages/ta/volatility.py?line=444'>445</a>\u001b[0m \u001b[39mself\u001b[39m\u001b[39m.\u001b[39m_fillna \u001b[39m=\u001b[39m fillna\n\u001b[0;32m--> <a href='file:///Users/emmanuelpeters/cs1470-final-runescape/cs1470-final-runescape-1/env/lib/python3.9/site-packages/ta/volatility.py?line=445'>446</a>\u001b[0m \u001b[39mself\u001b[39;49m\u001b[39m.\u001b[39;49m_run()\n",
      "File \u001b[0;32m~/cs1470-final-runescape/cs1470-final-runescape-1/env/lib/python3.9/site-packages/ta/volatility.py:458\u001b[0m, in \u001b[0;36mUlcerIndex._run\u001b[0;34m(self)\u001b[0m\n\u001b[1;32m    <a href='file:///Users/emmanuelpeters/cs1470-final-runescape/cs1470-final-runescape-1/env/lib/python3.9/site-packages/ta/volatility.py?line=453'>454</a>\u001b[0m         \u001b[39mreturn\u001b[39;00m np\u001b[39m.\u001b[39msqrt((x \u001b[39m*\u001b[39m\u001b[39m*\u001b[39m \u001b[39m2\u001b[39m \u001b[39m/\u001b[39m \u001b[39mself\u001b[39m\u001b[39m.\u001b[39m_window)\u001b[39m.\u001b[39msum())\n\u001b[1;32m    <a href='file:///Users/emmanuelpeters/cs1470-final-runescape/cs1470-final-runescape-1/env/lib/python3.9/site-packages/ta/volatility.py?line=455'>456</a>\u001b[0m     \u001b[39mreturn\u001b[39;00m _ui_function\n\u001b[0;32m--> <a href='file:///Users/emmanuelpeters/cs1470-final-runescape/cs1470-final-runescape-1/env/lib/python3.9/site-packages/ta/volatility.py?line=457'>458</a>\u001b[0m \u001b[39mself\u001b[39m\u001b[39m.\u001b[39m_ulcer_idx \u001b[39m=\u001b[39m _r_i\u001b[39m.\u001b[39;49mrolling(\u001b[39mself\u001b[39;49m\u001b[39m.\u001b[39;49m_window)\u001b[39m.\u001b[39;49mapply(ui_function(), raw\u001b[39m=\u001b[39;49m\u001b[39mTrue\u001b[39;49;00m)\n",
      "File \u001b[0;32m~/cs1470-final-runescape/cs1470-final-runescape-1/env/lib/python3.9/site-packages/pandas/core/window/rolling.py:1843\u001b[0m, in \u001b[0;36mRolling.apply\u001b[0;34m(self, func, raw, engine, engine_kwargs, args, kwargs)\u001b[0m\n\u001b[1;32m   <a href='file:///Users/emmanuelpeters/cs1470-final-runescape/cs1470-final-runescape-1/env/lib/python3.9/site-packages/pandas/core/window/rolling.py?line=1821'>1822</a>\u001b[0m \u001b[39m@doc\u001b[39m(\n\u001b[1;32m   <a href='file:///Users/emmanuelpeters/cs1470-final-runescape/cs1470-final-runescape-1/env/lib/python3.9/site-packages/pandas/core/window/rolling.py?line=1822'>1823</a>\u001b[0m     template_header,\n\u001b[1;32m   <a href='file:///Users/emmanuelpeters/cs1470-final-runescape/cs1470-final-runescape-1/env/lib/python3.9/site-packages/pandas/core/window/rolling.py?line=1823'>1824</a>\u001b[0m     create_section_header(\u001b[39m\"\u001b[39m\u001b[39mParameters\u001b[39m\u001b[39m\"\u001b[39m),\n\u001b[0;32m   (...)\u001b[0m\n\u001b[1;32m   <a href='file:///Users/emmanuelpeters/cs1470-final-runescape/cs1470-final-runescape-1/env/lib/python3.9/site-packages/pandas/core/window/rolling.py?line=1840'>1841</a>\u001b[0m     kwargs: \u001b[39mdict\u001b[39m[\u001b[39mstr\u001b[39m, Any] \u001b[39m|\u001b[39m \u001b[39mNone\u001b[39;00m \u001b[39m=\u001b[39m \u001b[39mNone\u001b[39;00m,\n\u001b[1;32m   <a href='file:///Users/emmanuelpeters/cs1470-final-runescape/cs1470-final-runescape-1/env/lib/python3.9/site-packages/pandas/core/window/rolling.py?line=1841'>1842</a>\u001b[0m ):\n\u001b[0;32m-> <a href='file:///Users/emmanuelpeters/cs1470-final-runescape/cs1470-final-runescape-1/env/lib/python3.9/site-packages/pandas/core/window/rolling.py?line=1842'>1843</a>\u001b[0m     \u001b[39mreturn\u001b[39;00m \u001b[39msuper\u001b[39;49m()\u001b[39m.\u001b[39;49mapply(\n\u001b[1;32m   <a href='file:///Users/emmanuelpeters/cs1470-final-runescape/cs1470-final-runescape-1/env/lib/python3.9/site-packages/pandas/core/window/rolling.py?line=1843'>1844</a>\u001b[0m         func,\n\u001b[1;32m   <a href='file:///Users/emmanuelpeters/cs1470-final-runescape/cs1470-final-runescape-1/env/lib/python3.9/site-packages/pandas/core/window/rolling.py?line=1844'>1845</a>\u001b[0m         raw\u001b[39m=\u001b[39;49mraw,\n\u001b[1;32m   <a href='file:///Users/emmanuelpeters/cs1470-final-runescape/cs1470-final-runescape-1/env/lib/python3.9/site-packages/pandas/core/window/rolling.py?line=1845'>1846</a>\u001b[0m         engine\u001b[39m=\u001b[39;49mengine,\n\u001b[1;32m   <a href='file:///Users/emmanuelpeters/cs1470-final-runescape/cs1470-final-runescape-1/env/lib/python3.9/site-packages/pandas/core/window/rolling.py?line=1846'>1847</a>\u001b[0m         engine_kwargs\u001b[39m=\u001b[39;49mengine_kwargs,\n\u001b[1;32m   <a href='file:///Users/emmanuelpeters/cs1470-final-runescape/cs1470-final-runescape-1/env/lib/python3.9/site-packages/pandas/core/window/rolling.py?line=1847'>1848</a>\u001b[0m         args\u001b[39m=\u001b[39;49margs,\n\u001b[1;32m   <a href='file:///Users/emmanuelpeters/cs1470-final-runescape/cs1470-final-runescape-1/env/lib/python3.9/site-packages/pandas/core/window/rolling.py?line=1848'>1849</a>\u001b[0m         kwargs\u001b[39m=\u001b[39;49mkwargs,\n\u001b[1;32m   <a href='file:///Users/emmanuelpeters/cs1470-final-runescape/cs1470-final-runescape-1/env/lib/python3.9/site-packages/pandas/core/window/rolling.py?line=1849'>1850</a>\u001b[0m     )\n",
      "File \u001b[0;32m~/cs1470-final-runescape/cs1470-final-runescape-1/env/lib/python3.9/site-packages/pandas/core/window/rolling.py:1315\u001b[0m, in \u001b[0;36mRollingAndExpandingMixin.apply\u001b[0;34m(self, func, raw, engine, engine_kwargs, args, kwargs)\u001b[0m\n\u001b[1;32m   <a href='file:///Users/emmanuelpeters/cs1470-final-runescape/cs1470-final-runescape-1/env/lib/python3.9/site-packages/pandas/core/window/rolling.py?line=1311'>1312</a>\u001b[0m \u001b[39melse\u001b[39;00m:\n\u001b[1;32m   <a href='file:///Users/emmanuelpeters/cs1470-final-runescape/cs1470-final-runescape-1/env/lib/python3.9/site-packages/pandas/core/window/rolling.py?line=1312'>1313</a>\u001b[0m     \u001b[39mraise\u001b[39;00m \u001b[39mValueError\u001b[39;00m(\u001b[39m\"\u001b[39m\u001b[39mengine must be either \u001b[39m\u001b[39m'\u001b[39m\u001b[39mnumba\u001b[39m\u001b[39m'\u001b[39m\u001b[39m or \u001b[39m\u001b[39m'\u001b[39m\u001b[39mcython\u001b[39m\u001b[39m'\u001b[39m\u001b[39m\"\u001b[39m)\n\u001b[0;32m-> <a href='file:///Users/emmanuelpeters/cs1470-final-runescape/cs1470-final-runescape-1/env/lib/python3.9/site-packages/pandas/core/window/rolling.py?line=1314'>1315</a>\u001b[0m \u001b[39mreturn\u001b[39;00m \u001b[39mself\u001b[39;49m\u001b[39m.\u001b[39;49m_apply(\n\u001b[1;32m   <a href='file:///Users/emmanuelpeters/cs1470-final-runescape/cs1470-final-runescape-1/env/lib/python3.9/site-packages/pandas/core/window/rolling.py?line=1315'>1316</a>\u001b[0m     apply_func,\n\u001b[1;32m   <a href='file:///Users/emmanuelpeters/cs1470-final-runescape/cs1470-final-runescape-1/env/lib/python3.9/site-packages/pandas/core/window/rolling.py?line=1316'>1317</a>\u001b[0m     numba_cache_key\u001b[39m=\u001b[39;49mnumba_cache_key,\n\u001b[1;32m   <a href='file:///Users/emmanuelpeters/cs1470-final-runescape/cs1470-final-runescape-1/env/lib/python3.9/site-packages/pandas/core/window/rolling.py?line=1317'>1318</a>\u001b[0m     numba_args\u001b[39m=\u001b[39;49mnumba_args,\n\u001b[1;32m   <a href='file:///Users/emmanuelpeters/cs1470-final-runescape/cs1470-final-runescape-1/env/lib/python3.9/site-packages/pandas/core/window/rolling.py?line=1318'>1319</a>\u001b[0m )\n",
      "File \u001b[0;32m~/cs1470-final-runescape/cs1470-final-runescape-1/env/lib/python3.9/site-packages/pandas/core/window/rolling.py:590\u001b[0m, in \u001b[0;36mBaseWindow._apply\u001b[0;34m(self, func, name, numba_cache_key, numba_args, **kwargs)\u001b[0m\n\u001b[1;32m    <a href='file:///Users/emmanuelpeters/cs1470-final-runescape/cs1470-final-runescape-1/env/lib/python3.9/site-packages/pandas/core/window/rolling.py?line=586'>587</a>\u001b[0m     \u001b[39mreturn\u001b[39;00m result\n\u001b[1;32m    <a href='file:///Users/emmanuelpeters/cs1470-final-runescape/cs1470-final-runescape-1/env/lib/python3.9/site-packages/pandas/core/window/rolling.py?line=588'>589</a>\u001b[0m \u001b[39mif\u001b[39;00m \u001b[39mself\u001b[39m\u001b[39m.\u001b[39mmethod \u001b[39m==\u001b[39m \u001b[39m\"\u001b[39m\u001b[39msingle\u001b[39m\u001b[39m\"\u001b[39m:\n\u001b[0;32m--> <a href='file:///Users/emmanuelpeters/cs1470-final-runescape/cs1470-final-runescape-1/env/lib/python3.9/site-packages/pandas/core/window/rolling.py?line=589'>590</a>\u001b[0m     \u001b[39mreturn\u001b[39;00m \u001b[39mself\u001b[39;49m\u001b[39m.\u001b[39;49m_apply_blockwise(homogeneous_func, name)\n\u001b[1;32m    <a href='file:///Users/emmanuelpeters/cs1470-final-runescape/cs1470-final-runescape-1/env/lib/python3.9/site-packages/pandas/core/window/rolling.py?line=590'>591</a>\u001b[0m \u001b[39melse\u001b[39;00m:\n\u001b[1;32m    <a href='file:///Users/emmanuelpeters/cs1470-final-runescape/cs1470-final-runescape-1/env/lib/python3.9/site-packages/pandas/core/window/rolling.py?line=591'>592</a>\u001b[0m     \u001b[39mreturn\u001b[39;00m \u001b[39mself\u001b[39m\u001b[39m.\u001b[39m_apply_tablewise(homogeneous_func, name)\n",
      "File \u001b[0;32m~/cs1470-final-runescape/cs1470-final-runescape-1/env/lib/python3.9/site-packages/pandas/core/window/rolling.py:442\u001b[0m, in \u001b[0;36mBaseWindow._apply_blockwise\u001b[0;34m(self, homogeneous_func, name)\u001b[0m\n\u001b[1;32m    <a href='file:///Users/emmanuelpeters/cs1470-final-runescape/cs1470-final-runescape-1/env/lib/python3.9/site-packages/pandas/core/window/rolling.py?line=436'>437</a>\u001b[0m \u001b[39m\"\"\"\u001b[39;00m\n\u001b[1;32m    <a href='file:///Users/emmanuelpeters/cs1470-final-runescape/cs1470-final-runescape-1/env/lib/python3.9/site-packages/pandas/core/window/rolling.py?line=437'>438</a>\u001b[0m \u001b[39mApply the given function to the DataFrame broken down into homogeneous\u001b[39;00m\n\u001b[1;32m    <a href='file:///Users/emmanuelpeters/cs1470-final-runescape/cs1470-final-runescape-1/env/lib/python3.9/site-packages/pandas/core/window/rolling.py?line=438'>439</a>\u001b[0m \u001b[39msub-frames.\u001b[39;00m\n\u001b[1;32m    <a href='file:///Users/emmanuelpeters/cs1470-final-runescape/cs1470-final-runescape-1/env/lib/python3.9/site-packages/pandas/core/window/rolling.py?line=439'>440</a>\u001b[0m \u001b[39m\"\"\"\u001b[39;00m\n\u001b[1;32m    <a href='file:///Users/emmanuelpeters/cs1470-final-runescape/cs1470-final-runescape-1/env/lib/python3.9/site-packages/pandas/core/window/rolling.py?line=440'>441</a>\u001b[0m \u001b[39mif\u001b[39;00m \u001b[39mself\u001b[39m\u001b[39m.\u001b[39m_selected_obj\u001b[39m.\u001b[39mndim \u001b[39m==\u001b[39m \u001b[39m1\u001b[39m:\n\u001b[0;32m--> <a href='file:///Users/emmanuelpeters/cs1470-final-runescape/cs1470-final-runescape-1/env/lib/python3.9/site-packages/pandas/core/window/rolling.py?line=441'>442</a>\u001b[0m     \u001b[39mreturn\u001b[39;00m \u001b[39mself\u001b[39;49m\u001b[39m.\u001b[39;49m_apply_series(homogeneous_func, name)\n\u001b[1;32m    <a href='file:///Users/emmanuelpeters/cs1470-final-runescape/cs1470-final-runescape-1/env/lib/python3.9/site-packages/pandas/core/window/rolling.py?line=443'>444</a>\u001b[0m obj \u001b[39m=\u001b[39m \u001b[39mself\u001b[39m\u001b[39m.\u001b[39m_create_data(\u001b[39mself\u001b[39m\u001b[39m.\u001b[39m_selected_obj)\n\u001b[1;32m    <a href='file:///Users/emmanuelpeters/cs1470-final-runescape/cs1470-final-runescape-1/env/lib/python3.9/site-packages/pandas/core/window/rolling.py?line=444'>445</a>\u001b[0m \u001b[39mif\u001b[39;00m name \u001b[39m==\u001b[39m \u001b[39m\"\u001b[39m\u001b[39mcount\u001b[39m\u001b[39m\"\u001b[39m:\n\u001b[1;32m    <a href='file:///Users/emmanuelpeters/cs1470-final-runescape/cs1470-final-runescape-1/env/lib/python3.9/site-packages/pandas/core/window/rolling.py?line=445'>446</a>\u001b[0m     \u001b[39m# GH 12541: Special case for count where we support date-like types\u001b[39;00m\n",
      "File \u001b[0;32m~/cs1470-final-runescape/cs1470-final-runescape-1/env/lib/python3.9/site-packages/pandas/core/window/rolling.py:431\u001b[0m, in \u001b[0;36mBaseWindow._apply_series\u001b[0;34m(self, homogeneous_func, name)\u001b[0m\n\u001b[1;32m    <a href='file:///Users/emmanuelpeters/cs1470-final-runescape/cs1470-final-runescape-1/env/lib/python3.9/site-packages/pandas/core/window/rolling.py?line=427'>428</a>\u001b[0m \u001b[39mexcept\u001b[39;00m (\u001b[39mTypeError\u001b[39;00m, \u001b[39mNotImplementedError\u001b[39;00m) \u001b[39mas\u001b[39;00m err:\n\u001b[1;32m    <a href='file:///Users/emmanuelpeters/cs1470-final-runescape/cs1470-final-runescape-1/env/lib/python3.9/site-packages/pandas/core/window/rolling.py?line=428'>429</a>\u001b[0m     \u001b[39mraise\u001b[39;00m DataError(\u001b[39m\"\u001b[39m\u001b[39mNo numeric types to aggregate\u001b[39m\u001b[39m\"\u001b[39m) \u001b[39mfrom\u001b[39;00m \u001b[39merr\u001b[39;00m\n\u001b[0;32m--> <a href='file:///Users/emmanuelpeters/cs1470-final-runescape/cs1470-final-runescape-1/env/lib/python3.9/site-packages/pandas/core/window/rolling.py?line=430'>431</a>\u001b[0m result \u001b[39m=\u001b[39m homogeneous_func(values)\n\u001b[1;32m    <a href='file:///Users/emmanuelpeters/cs1470-final-runescape/cs1470-final-runescape-1/env/lib/python3.9/site-packages/pandas/core/window/rolling.py?line=431'>432</a>\u001b[0m \u001b[39mreturn\u001b[39;00m obj\u001b[39m.\u001b[39m_constructor(result, index\u001b[39m=\u001b[39mobj\u001b[39m.\u001b[39mindex, name\u001b[39m=\u001b[39mobj\u001b[39m.\u001b[39mname)\n",
      "File \u001b[0;32m~/cs1470-final-runescape/cs1470-final-runescape-1/env/lib/python3.9/site-packages/pandas/core/window/rolling.py:582\u001b[0m, in \u001b[0;36mBaseWindow._apply.<locals>.homogeneous_func\u001b[0;34m(values)\u001b[0m\n\u001b[1;32m    <a href='file:///Users/emmanuelpeters/cs1470-final-runescape/cs1470-final-runescape-1/env/lib/python3.9/site-packages/pandas/core/window/rolling.py?line=578'>579</a>\u001b[0m     \u001b[39mreturn\u001b[39;00m func(x, start, end, min_periods, \u001b[39m*\u001b[39mnumba_args)\n\u001b[1;32m    <a href='file:///Users/emmanuelpeters/cs1470-final-runescape/cs1470-final-runescape-1/env/lib/python3.9/site-packages/pandas/core/window/rolling.py?line=580'>581</a>\u001b[0m \u001b[39mwith\u001b[39;00m np\u001b[39m.\u001b[39merrstate(\u001b[39mall\u001b[39m\u001b[39m=\u001b[39m\u001b[39m\"\u001b[39m\u001b[39mignore\u001b[39m\u001b[39m\"\u001b[39m):\n\u001b[0;32m--> <a href='file:///Users/emmanuelpeters/cs1470-final-runescape/cs1470-final-runescape-1/env/lib/python3.9/site-packages/pandas/core/window/rolling.py?line=581'>582</a>\u001b[0m     result \u001b[39m=\u001b[39m calc(values)\n\u001b[1;32m    <a href='file:///Users/emmanuelpeters/cs1470-final-runescape/cs1470-final-runescape-1/env/lib/python3.9/site-packages/pandas/core/window/rolling.py?line=583'>584</a>\u001b[0m \u001b[39mif\u001b[39;00m numba_cache_key \u001b[39mis\u001b[39;00m \u001b[39mnot\u001b[39;00m \u001b[39mNone\u001b[39;00m:\n\u001b[1;32m    <a href='file:///Users/emmanuelpeters/cs1470-final-runescape/cs1470-final-runescape-1/env/lib/python3.9/site-packages/pandas/core/window/rolling.py?line=584'>585</a>\u001b[0m     NUMBA_FUNC_CACHE[numba_cache_key] \u001b[39m=\u001b[39m func\n",
      "File \u001b[0;32m~/cs1470-final-runescape/cs1470-final-runescape-1/env/lib/python3.9/site-packages/pandas/core/window/rolling.py:579\u001b[0m, in \u001b[0;36mBaseWindow._apply.<locals>.homogeneous_func.<locals>.calc\u001b[0;34m(x)\u001b[0m\n\u001b[1;32m    <a href='file:///Users/emmanuelpeters/cs1470-final-runescape/cs1470-final-runescape-1/env/lib/python3.9/site-packages/pandas/core/window/rolling.py?line=570'>571</a>\u001b[0m start, end \u001b[39m=\u001b[39m window_indexer\u001b[39m.\u001b[39mget_window_bounds(\n\u001b[1;32m    <a href='file:///Users/emmanuelpeters/cs1470-final-runescape/cs1470-final-runescape-1/env/lib/python3.9/site-packages/pandas/core/window/rolling.py?line=571'>572</a>\u001b[0m     num_values\u001b[39m=\u001b[39m\u001b[39mlen\u001b[39m(x),\n\u001b[1;32m    <a href='file:///Users/emmanuelpeters/cs1470-final-runescape/cs1470-final-runescape-1/env/lib/python3.9/site-packages/pandas/core/window/rolling.py?line=572'>573</a>\u001b[0m     min_periods\u001b[39m=\u001b[39mmin_periods,\n\u001b[1;32m    <a href='file:///Users/emmanuelpeters/cs1470-final-runescape/cs1470-final-runescape-1/env/lib/python3.9/site-packages/pandas/core/window/rolling.py?line=573'>574</a>\u001b[0m     center\u001b[39m=\u001b[39m\u001b[39mself\u001b[39m\u001b[39m.\u001b[39mcenter,\n\u001b[1;32m    <a href='file:///Users/emmanuelpeters/cs1470-final-runescape/cs1470-final-runescape-1/env/lib/python3.9/site-packages/pandas/core/window/rolling.py?line=574'>575</a>\u001b[0m     closed\u001b[39m=\u001b[39m\u001b[39mself\u001b[39m\u001b[39m.\u001b[39mclosed,\n\u001b[1;32m    <a href='file:///Users/emmanuelpeters/cs1470-final-runescape/cs1470-final-runescape-1/env/lib/python3.9/site-packages/pandas/core/window/rolling.py?line=575'>576</a>\u001b[0m )\n\u001b[1;32m    <a href='file:///Users/emmanuelpeters/cs1470-final-runescape/cs1470-final-runescape-1/env/lib/python3.9/site-packages/pandas/core/window/rolling.py?line=576'>577</a>\u001b[0m \u001b[39mself\u001b[39m\u001b[39m.\u001b[39m_check_window_bounds(start, end, \u001b[39mlen\u001b[39m(x))\n\u001b[0;32m--> <a href='file:///Users/emmanuelpeters/cs1470-final-runescape/cs1470-final-runescape-1/env/lib/python3.9/site-packages/pandas/core/window/rolling.py?line=578'>579</a>\u001b[0m \u001b[39mreturn\u001b[39;00m func(x, start, end, min_periods, \u001b[39m*\u001b[39;49mnumba_args)\n",
      "File \u001b[0;32m~/cs1470-final-runescape/cs1470-final-runescape-1/env/lib/python3.9/site-packages/pandas/core/window/rolling.py:1342\u001b[0m, in \u001b[0;36mRollingAndExpandingMixin._generate_cython_apply_func.<locals>.apply_func\u001b[0;34m(values, begin, end, min_periods, raw)\u001b[0m\n\u001b[1;32m   <a href='file:///Users/emmanuelpeters/cs1470-final-runescape/cs1470-final-runescape-1/env/lib/python3.9/site-packages/pandas/core/window/rolling.py?line=1338'>1339</a>\u001b[0m \u001b[39mif\u001b[39;00m \u001b[39mnot\u001b[39;00m raw:\n\u001b[1;32m   <a href='file:///Users/emmanuelpeters/cs1470-final-runescape/cs1470-final-runescape-1/env/lib/python3.9/site-packages/pandas/core/window/rolling.py?line=1339'>1340</a>\u001b[0m     \u001b[39m# GH 45912\u001b[39;00m\n\u001b[1;32m   <a href='file:///Users/emmanuelpeters/cs1470-final-runescape/cs1470-final-runescape-1/env/lib/python3.9/site-packages/pandas/core/window/rolling.py?line=1340'>1341</a>\u001b[0m     values \u001b[39m=\u001b[39m Series(values, index\u001b[39m=\u001b[39m\u001b[39mself\u001b[39m\u001b[39m.\u001b[39m_on)\n\u001b[0;32m-> <a href='file:///Users/emmanuelpeters/cs1470-final-runescape/cs1470-final-runescape-1/env/lib/python3.9/site-packages/pandas/core/window/rolling.py?line=1341'>1342</a>\u001b[0m \u001b[39mreturn\u001b[39;00m window_func(values, begin, end, min_periods)\n",
      "File \u001b[0;32mpandas/_libs/window/aggregations.pyx:1313\u001b[0m, in \u001b[0;36mpandas._libs.window.aggregations.roll_apply\u001b[0;34m()\u001b[0m\n",
      "File \u001b[0;32m~/cs1470-final-runescape/cs1470-final-runescape-1/env/lib/python3.9/site-packages/ta/volatility.py:454\u001b[0m, in \u001b[0;36mUlcerIndex._run.<locals>.ui_function.<locals>._ui_function\u001b[0;34m(x)\u001b[0m\n\u001b[1;32m    <a href='file:///Users/emmanuelpeters/cs1470-final-runescape/cs1470-final-runescape-1/env/lib/python3.9/site-packages/ta/volatility.py?line=452'>453</a>\u001b[0m \u001b[39mdef\u001b[39;00m \u001b[39m_ui_function\u001b[39m(x):\n\u001b[0;32m--> <a href='file:///Users/emmanuelpeters/cs1470-final-runescape/cs1470-final-runescape-1/env/lib/python3.9/site-packages/ta/volatility.py?line=453'>454</a>\u001b[0m     \u001b[39mreturn\u001b[39;00m np\u001b[39m.\u001b[39msqrt((x \u001b[39m*\u001b[39;49m\u001b[39m*\u001b[39;49m \u001b[39m2\u001b[39;49m \u001b[39m/\u001b[39;49m \u001b[39mself\u001b[39;49m\u001b[39m.\u001b[39;49m_window)\u001b[39m.\u001b[39;49msum())\n",
      "\u001b[0;31mKeyboardInterrupt\u001b[0m: "
     ]
    }
   ],
   "source": [
    "# Ulcer index for volatility https://school.stockcharts.com/doku.php?id=technical_indicators:ulcer_index\n",
    "# Will use same bin size as the ROC with binning\n",
    "# Takes a while to compute, could skip this\n",
    "temp_list = []\n",
    "for i in range(data.shape[2]):\n",
    "    feature_Volatility = ta.volatility.UlcerIndex(close = pd.Series(data[0,:,i]), window = bin_size)\n",
    "    generate_Volatility = feature_Volatility.ulcer_index()\n",
    "    temp_list.append(generate_Volatility)\n",
    "Volatility_df = pd.DataFrame(np.vstack(temp_list).T)"
   ]
  },
  {
   "cell_type": "code",
   "execution_count": 74,
   "id": "bbddcb56",
   "metadata": {},
   "outputs": [],
   "source": [
    "# Adding Mass index, also a volatility indicator tracks change in trend\n",
    "# https://www.investopedia.com/terms/m/mass-index.asp#:~:text=Mass%20index%20is%20a%20form,certain%20point%20and%20then%20contracts.\n",
    "temp_list = []\n",
    "for i in range(data.shape[2]):\n",
    "    feature_MI = ta.trend.mass_index(high= pd.Series(data[0,:,i]), low = pd.Series(data[1,:,i]), fillna = True)\n",
    "    temp_list.append(feature_MI)\n",
    "MI_df = pd.DataFrame(np.vstack(temp_list).T)"
   ]
  },
  {
   "cell_type": "code",
   "execution_count": 267,
   "id": "696b4928-61e7-4343-9fa4-04d0ceb49e90",
   "metadata": {},
   "outputs": [],
   "source": [
    "observations =[]\n",
    "values = []\n",
    "for i in range(window_size,len(HAP_df)-future_size):\n",
    "    X_indices = list(range(i-window_size,i))\n",
    "    y_indices = list(range(i, i+future_size))\n",
    "    observations.append(data[:,X_indices,:])\n",
    "    values.append(data[:,y_indices,:])"
   ]
  },
  {
   "cell_type": "code",
   "execution_count": 268,
   "id": "def01e57-849d-4f3a-87b8-99439078df3f",
   "metadata": {},
   "outputs": [],
   "source": [
    "X = np.stack(observations,axis = 0)"
   ]
  },
  {
   "cell_type": "code",
   "execution_count": 269,
   "id": "4b43aa22-2843-437d-a451-7530b4003051",
   "metadata": {},
   "outputs": [
    {
     "data": {
      "text/plain": [
       "(8400, 4, 60, 3724)"
      ]
     },
     "execution_count": 269,
     "metadata": {},
     "output_type": "execute_result"
    }
   ],
   "source": [
    "X.shape\n",
    "#observation, metrics, time, item"
   ]
  },
  {
   "cell_type": "code",
   "execution_count": 270,
   "id": "dbd4cf39-ea63-4929-aa27-4224eb745f43",
   "metadata": {},
   "outputs": [
    {
     "data": {
      "text/plain": [
       "(8400, 4, 2, 3724)"
      ]
     },
     "execution_count": 270,
     "metadata": {},
     "output_type": "execute_result"
    }
   ],
   "source": [
    "y = np.stack(values, axis = 0)\n",
    "y.shape"
   ]
  },
  {
   "cell_type": "code",
   "execution_count": null,
   "id": "2a04fc2c-6b91-4726-bd19-9121cf2b1a1d",
   "metadata": {},
   "outputs": [],
   "source": [
    "def get_data(data_path, window_size, future_size):\n",
    "    HAP_df = pd.read_parquet(f'{data_path}/pricing_data/avgHighPrice.parquet.gzip')\n",
    "    LAP_df = pd.read_parquet(f'{data_path}/pricing_data/avgLowPrice.parquet.gzip')\n",
    "    HAV_df = pd.read_parquet(f'{data_path}/pricing_data/highPriceVolume.parquet.gzip')\n",
    "    LAV_df = pd.read_parquet(f'{data_path}/pricing_data/lowPriceVolume.parquet.gzip')\n",
    "    \n",
    "    HAV_df = HAV_df.fillna(0)\n",
    "    LAV_df = LAV_df.fillna(0)\n",
    "   \n",
    "    HAP_df = HAP_df.interpolate(method = \"linear\")\n",
    "    LAP_df = LAP_df.interpolate(method = \"linear\")\n",
    "    \n",
    "    HAP_df = HAP_df.iloc[300: , :]\n",
    "    LAP_df = LAP_df.iloc[300: , :]\n",
    "    HAV_df = HAV_df.iloc[300: , :]\n",
    "    LAV_df = LAV_df.iloc[300: , :]\n",
    "    \n",
    "    dfs = [HAP_df,LAP_df, HAV_df,LAV_df]\n",
    "    arrays = [df.values for df in dfs]\n",
    "    data = np.stack(arrays, axis =0)\n",
    "    #shape = (metric, time, item)\n",
    "    \n",
    "    observations =[]\n",
    "    values = []\n",
    "    for i in range(window_size,len(HAP_df)-future_size):\n",
    "        X_indices = list(range(i-window_size,i))\n",
    "        y_indices = list(range(i, i+future_size))\n",
    "        observations.append(data[:,X_indices,:])\n",
    "        values.append(data[:,y_indices,:])\n",
    "    \n",
    "    X = np.stack(observations,axis = 0)\n",
    "    y = np.stack(values, axis = 0)\n",
    "    #X_shape = observation, metrics, time, item\n",
    "    return X,y"
   ]
  }
 ],
 "metadata": {
  "kernelspec": {
   "display_name": "Python 3 (ipykernel)",
   "language": "python",
   "name": "python3"
  },
  "language_info": {
   "codemirror_mode": {
    "name": "ipython",
    "version": 3
   },
   "file_extension": ".py",
   "mimetype": "text/x-python",
   "name": "python",
   "nbconvert_exporter": "python",
   "pygments_lexer": "ipython3",
   "version": "3.9.5"
  }
 },
 "nbformat": 4,
 "nbformat_minor": 5
}
