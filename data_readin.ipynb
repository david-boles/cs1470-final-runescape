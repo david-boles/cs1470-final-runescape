{
 "cells": [
  {
   "cell_type": "code",
   "execution_count": null,
   "id": "5c0b028e",
   "metadata": {},
   "outputs": [],
   "source": [
    "import json\n",
    "import pandas as pd"
   ]
  },
  {
   "cell_type": "code",
   "execution_count": null,
   "id": "5054e6d0-9357-4f30-820e-b9f30a79f41c",
   "metadata": {},
   "outputs": [],
   "source": [
    "HAP_df = pd.read_parquet('data/pricing_data/avgHighPrice.parquet.gzip')\n",
    "LAP_df = pd.read_parquet('data/pricing_data/avgLowPrice.parquet.gzip')\n",
    "HAV_df = pd.read_parquet('data/pricing_data/highPriceVolume.parquet.gzip')\n",
    "LAV_df = pd.read_parquet('data/pricing_data/lowPriceVolume.parquet.gzip')"
   ]
  },
  {
   "cell_type": "code",
   "execution_count": null,
   "id": "a475ebd2",
   "metadata": {},
   "outputs": [],
   "source": [
    "#take a weighted average of the prices to get overall avrg price\n",
    "weighted_avg = ((HAP_df.values*HAV_df.values)+(LAV_df.values*HAV_df.values))/(LAV_df.values+HAV_df.values)\n",
    "df = pd.DataFrame(columns = HAP_df.columns, data = weighted_avg)\n",
    "totv = pd.DataFrame(columns = HAP_df.columns, data = (LAV_df.values+HAV_df.values)) #a dataframe of volume traded that day"
   ]
  },
  {
   "cell_type": "code",
   "execution_count": null,
   "id": "63acea17-4f7c-4896-9c12-6d125f7aee48",
   "metadata": {},
   "outputs": [],
   "source": [
    "with open(\"data/name_dicts/ID_to_name.json\",\"r\") as f:\n",
    "    id2name=json.load(f)\n",
    "with open(\"data/name_dicts/name_to_ID.json\",\"r\") as f:\n",
    "    name2id=json.load(f)"
   ]
  },
  {
   "cell_type": "code",
   "execution_count": null,
   "id": "8a8b135a-5035-4cde-9244-72f293f194d2",
   "metadata": {},
   "outputs": [],
   "source": [
    "prices = df[str(name2id[\"Abyssal whip\"])].to_list() #lists of time and value\n",
    "times = df[\"timestamps\"].to_list()"
   ]
  },
  {
   "cell_type": "code",
   "execution_count": 1,
   "id": "3abd88a5-e1da-4dba-af9f-21acb507d972",
   "metadata": {},
   "outputs": [
    {
     "name": "stdout",
     "output_type": "stream",
     "text": [
      "hello\n"
     ]
    }
   ],
   "source": [
    "print(\"hello\")"
   ]
  },
  {
   "cell_type": "code",
   "execution_count": null,
   "id": "69e6028f",
   "metadata": {},
   "outputs": [],
   "source": [
    "print(\"run this, david\")"
   ]
  },
  {
   "cell_type": "code",
   "execution_count": null,
   "id": "dde314c1",
   "metadata": {},
   "outputs": [],
   "source": []
  }
 ],
 "metadata": {
  "kernelspec": {
   "display_name": "Python 3 (ipykernel)",
   "language": "python",
   "name": "python3"
  },
  "language_info": {
   "codemirror_mode": {
    "name": "ipython",
    "version": 3
   },
   "file_extension": ".py",
   "mimetype": "text/x-python",
   "name": "python",
   "nbconvert_exporter": "python",
   "pygments_lexer": "ipython3",
   "version": "3.8.12"
  }
 },
 "nbformat": 4,
 "nbformat_minor": 5
}
